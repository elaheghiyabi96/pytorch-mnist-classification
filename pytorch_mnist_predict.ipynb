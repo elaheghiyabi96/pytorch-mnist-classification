{
 "cells": [
  {
   "cell_type": "code",
   "execution_count": 9,
   "metadata": {},
   "outputs": [
    {
     "name": "stdout",
     "output_type": "stream",
     "text": [
      "Epoch 1, Loss: 0.3370365788226824\n",
      "Epoch 2, Loss: 0.15361766518155204\n",
      "Epoch 3, Loss: 0.10748855500960591\n",
      "Epoch 4, Loss: 0.08265391180315601\n",
      "Epoch 5, Loss: 0.06603394946141014\n",
      "Test Accuracy: 97.36%\n"
     ]
    }
   ],
   "source": [
    "# Import necessary libraries\n",
    "import torch                # Import the main PyTorch library\n",
    "import torch.nn as nn       # Import the neural network module of PyTorch\n",
    "import torch.optim as optim # Import the optimization module for training the model\n",
    "from torchvision import datasets, transforms  # Import the datasets and transformations from torchvision\n",
    "from torch.utils.data import DataLoader  # Import DataLoader to handle data loading\n",
    "\n",
    "# Data preparation\n",
    "transform = transforms.Compose([transforms.ToTensor()])  # Create a transformation to convert images to tensors\n",
    "train_data = datasets.MNIST(root='./data', train=True, download=True, transform=transform)  # Load training data for MNIST, apply the transformation\n",
    "test_data = datasets.MNIST(root='./data', train=False, download=True, transform=transform)  # Load test data for MNIST, apply the transformation\n",
    "\n",
    "# DataLoader to load data in batches for training and testing\n",
    "train_loader = DataLoader(train_data, batch_size=64, shuffle=True)  # Create a DataLoader for training data, with batch size 64 and shuffle enabled\n",
    "test_loader = DataLoader(test_data, batch_size=64, shuffle=False)  # Create a DataLoader for test data, with batch size 64 and shuffle disabled\n",
    "\n",
    "# Define a simple neural network\n",
    "class SimpleNN(nn.Module):\n",
    "    def __init__(self):\n",
    "        super(SimpleNN, self).__init__()  # Initialize the base class\n",
    "        self.fc1 = nn.Linear(28 * 28, 128)  # Fully connected layer from 28x28 (784 pixels) to 128 neurons\n",
    "        self.relu = nn.ReLU()  # ReLU activation function\n",
    "        self.fc2 = nn.Linear(128, 10)       # Fully connected layer from 128 neurons to 10 outputs (one for each class)\n",
    "\n",
    "    def forward(self, x):\n",
    "        x = x.view(-1, 28 * 28)  # Flatten the image from 28x28 to 784 pixels (vector)\n",
    "        x = self.fc1(x)          # Pass through the first fully connected layer\n",
    "        x = self.relu(x)         # Apply ReLU activation\n",
    "        x = self.fc2(x)          # Pass through the second fully connected layer (output layer)\n",
    "        return x  # Return the output of the model\n",
    "\n",
    "# Initialize the model\n",
    "model = SimpleNN()\n",
    "\n",
    "# Define loss function and optimizer\n",
    "criterion = nn.CrossEntropyLoss()  # Cross-entropy loss function for multi-class classification\n",
    "optimizer = optim.Adam(model.parameters(), lr=0.001)  # Adam optimizer with learning rate of 0.001\n",
    "\n",
    "# Training the model\n",
    "for epoch in range(5):  # Loop over the training dataset for 5 epochs\n",
    "    total_loss = 0  # Initialize the total loss for this epoch\n",
    "    for images, labels in train_loader:  # Loop over batches of images and labels from the training data\n",
    "        optimizer.zero_grad()  # Reset the gradients from the previous iteration\n",
    "        outputs = model(images)  # Get the model's output for the input images\n",
    "        loss = criterion(outputs, labels)  # Calculate the loss between predicted outputs and actual labels\n",
    "        loss.backward()  # Backpropagate the loss to compute gradients\n",
    "        optimizer.step()  # Update the model weights using the optimizer\n",
    "        total_loss += loss.item()  # Accumulate the loss for this epoch\n",
    "    # Print the average loss for this epoch\n",
    "    print(f\"Epoch {epoch+1}, Loss: {total_loss / len(train_loader)}\")\n",
    "\n",
    "# Testing the model\n",
    "correct = 0  # Initialize the counter for correct predictions\n",
    "total = 0  # Initialize the counter for total number of predictions\n",
    "with torch.no_grad():  # Disable gradient computation for testing (this saves memory and computation)\n",
    "    for images, labels in test_loader:  # Loop over batches of images and labels from the test data\n",
    "        outputs = model(images)  # Get the model's output for the input images\n",
    "        _, predicted = torch.max(outputs, 1)  # Get the class with the highest probability (the predicted class)\n",
    "        total += labels.size(0)  # Increase the total number of predictions\n",
    "        correct += (predicted == labels).sum().item()  # Increase the number of correct predictions\n",
    "\n",
    "# Print the accuracy of the model on the test dataset\n",
    "print(f\"Test Accuracy: {100 * correct / total:.2f}%\")\n"
   ]
  },
  {
   "cell_type": "code",
   "execution_count": 10,
   "metadata": {},
   "outputs": [
    {
     "data": {
      "image/png": "[encoded data removed]",
      "text/plain": [
       "<Figure size 432x288 with 1 Axes>"
      ]
     },
     "metadata": {
      "needs_background": "light"
     },
     "output_type": "display_data"
    },
    {
     "name": "stdout",
     "output_type": "stream",
     "text": [
      "Predicted Label: 6\n"
     ]
    }
   ],
   "source": [
    "# Import necessary libraries\n",
    "import torch  # Import PyTorch library\n",
    "import matplotlib.pyplot as plt  # Import Matplotlib for plotting images\n",
    "\n",
    "# Define the device for using GPU or CPU\n",
    "device = torch.device(\"cuda\" if torch.cuda.is_available() else \"cpu\")  # If a GPU is available, use it; otherwise, use CPU\n",
    "\n",
    "# Get index 100 from the test data\n",
    "index = 100  # Define the index to fetch the 100th image from the test dataset\n",
    "image, label = test_data[index]  # Get the image and its true label at the given index from the test data\n",
    "\n",
    "# Display the image\n",
    "plt.imshow(image.squeeze(), cmap=\"gray\")  # Squeeze the image tensor to remove any extra dimensions and display it in grayscale\n",
    "plt.title(f\"True Label: {label}\")  # Set the title of the image plot to show the true label of the image\n",
    "plt.show()  # Display the image plot\n",
    "\n",
    "# Send the model to the appropriate device (GPU or CPU)\n",
    "model.to(device)  # Move the model to the device (GPU or CPU) that was defined earlier\n",
    "\n",
    "# Make a prediction with the model\n",
    "model.eval()  # Change the model to evaluation mode (turn off dropout and batch normalization)\n",
    "with torch.no_grad():  # Disable gradient computation for inference (saves memory and computation)\n",
    "    output = model(image.unsqueeze(0).to(device))  # Pass the image to the model (add a batch dimension using unsqueeze and move to the device)\n",
    "    _, predicted = torch.max(output, 1)  # Get the predicted class by finding the index of the maximum value in the output tensor\n",
    "\n",
    "# Print the predicted label\n",
    "print(f\"Predicted Label: {predicted.item()}\")  # Print the predicted label as a scalar value\n"
   ]
  },
  {
   "cell_type": "code",
   "execution_count": null,
   "metadata": {},
   "outputs": [],
   "source": []
  }
 ],
 "metadata": {
  "kernelspec": {
   "display_name": "Python 3",
   "language": "python",
   "name": "python3"
  },
  "language_info": {
   "codemirror_mode": {
    "name": "ipython",
    "version": 3
   },
   "file_extension": ".py",
   "mimetype": "text/x-python",
   "name": "python",
   "nbconvert_exporter": "python",
   "pygments_lexer": "ipython3",
   "version": "3.7.6"
  }
 },
 "nbformat": 4,
 "nbformat_minor": 4
}
